{
    "cells": [
        {
            "cell_type": "markdown",
            "metadata": {
                "collapsed": true
            },
            "source": "# This NoteBook add latitude longitude To The DataFrame."
        },
        {
            "cell_type": "markdown",
            "metadata": {},
            "source": "#### Import Lib's."
        },
        {
            "cell_type": "code",
            "execution_count": 1,
            "metadata": {},
            "outputs": [
                {
                    "name": "stdout",
                    "output_type": "stream",
                    "text": "Solving environment: done\n\n# All requested packages already installed.\n\nSolving environment: done\n\n# All requested packages already installed.\n\nLibraries imported.\n"
                }
            ],
            "source": "import numpy as np # library to handle data in a vectorized manner\n\nimport pandas as pd # library for data analsysis\npd.set_option('display.max_columns', None)\npd.set_option('display.max_rows', None)\n\n\nimport lxml\nfrom bs4 import BeautifulSoup\n\nimport json # library to handle JSON files\n\n!conda install -c conda-forge geopy --yes # uncomment this line if you haven't completed the Foursquare API lab\nfrom geopy.geocoders import Nominatim # convert an address into latitude and longitude values\n\nimport requests # library to handle requests\nfrom pandas.io.json import json_normalize # tranform JSON file into a pandas dataframe\n\n# Matplotlib and associated plotting modules\nimport matplotlib.cm as cm\nimport matplotlib.colors as colors\n\n# import k-means from clustering stage\nfrom sklearn.cluster import KMeans\n\n!conda install -c conda-forge folium=0.5.0 --yes # uncomment this line if you haven't completed the Foursquare API lab\nimport folium # map rendering library\n\nprint('Libraries imported.')"
        },
        {
            "cell_type": "markdown",
            "metadata": {},
            "source": "#### Read CSV Geospatial"
        },
        {
            "cell_type": "code",
            "execution_count": 3,
            "metadata": {},
            "outputs": [
                {
                    "data": {
                        "text/plain": "(103, 2)"
                    },
                    "execution_count": 3,
                    "metadata": {},
                    "output_type": "execute_result"
                }
            ],
            "source": "geospatial = pd.read_csv(\"http://cocl.us/Geospatial_data\", index_col=0)\ngeospatial.shape"
        },
        {
            "cell_type": "markdown",
            "metadata": {},
            "source": "#### Create data frame of wikipedia torento postal codes"
        },
        {
            "cell_type": "code",
            "execution_count": 7,
            "metadata": {},
            "outputs": [
                {
                    "name": "stdout",
                    "output_type": "stream",
                    "text": "Len of the all_td:  540\nlen postalCode 180, borough 180, nie 180\nshape of the torento neighberhood Data Frame:  (180, 3)\nClean Data Frame Shape:  (103, 3)\n"
                },
                {
                    "data": {
                        "text/html": "<div>\n<style scoped>\n    .dataframe tbody tr th:only-of-type {\n        vertical-align: middle;\n    }\n\n    .dataframe tbody tr th {\n        vertical-align: top;\n    }\n\n    .dataframe thead th {\n        text-align: right;\n    }\n</style>\n<table border=\"1\" class=\"dataframe\">\n  <thead>\n    <tr style=\"text-align: right;\">\n      <th></th>\n      <th>PostalCode</th>\n      <th>Borough</th>\n      <th>Neighberhood</th>\n    </tr>\n  </thead>\n  <tbody>\n    <tr>\n      <th>0</th>\n      <td>M3A</td>\n      <td>North York</td>\n      <td>Parkwoods</td>\n    </tr>\n    <tr>\n      <th>1</th>\n      <td>M4A</td>\n      <td>North York</td>\n      <td>Victoria Village</td>\n    </tr>\n    <tr>\n      <th>2</th>\n      <td>M5A</td>\n      <td>Downtown Toronto</td>\n      <td>Regent Park , Harbourfront</td>\n    </tr>\n    <tr>\n      <th>3</th>\n      <td>M6A</td>\n      <td>North York</td>\n      <td>Lawrence Manor , Lawrence Heights</td>\n    </tr>\n    <tr>\n      <th>4</th>\n      <td>M7A</td>\n      <td>Downtown Toronto</td>\n      <td>Queen's Park , Ontario Provincial Government</td>\n    </tr>\n  </tbody>\n</table>\n</div>",
                        "text/plain": "  PostalCode           Borough                                  Neighberhood\n0        M3A        North York                                     Parkwoods\n1        M4A        North York                              Victoria Village\n2        M5A  Downtown Toronto                    Regent Park , Harbourfront\n3        M6A        North York             Lawrence Manor , Lawrence Heights\n4        M7A  Downtown Toronto  Queen's Park , Ontario Provincial Government"
                    },
                    "execution_count": 7,
                    "metadata": {},
                    "output_type": "execute_result"
                }
            ],
            "source": "wiki_html_page = requests.get(\"https://en.wikipedia.org/wiki/List_of_postal_codes_of_Canada:_M\").text\nsoup_object = BeautifulSoup(wiki_html_page, \"lxml\")\n\n# Table tag is: <table class=\"wikitable\">\nhtml_table = soup_object.find(\"table\", class_=\"wikitable\")\n\nall_td = html_table.findAll(\"td\")\nprint(\"Len of the all_td: \", len(all_td))\n\npostalCode=[]\nborough=[]\nnieghberhood=[]\n\n# create list of data for each column of data frame.\nfor data in range(0, 539, 3):\n    \n    postalCode.append(all_td[data].text)\n    borough.append(all_td[data+1].text)\n    nieghberhood.append(all_td[data+2].text)\n    \nprint(\"len postalCode {}, borough {}, nie {}\".format(len(postalCode), len(borough), len(nieghberhood)))\n\n\n# create torento data frame.\ndf_torento_neighberhood = pd.DataFrame({\"PostalCode\": postalCode,\n                                                          \"Borough\": borough,\n                                                          \"Neighberhood\": nieghberhood\n                                                         })\n\nprint(\"shape of the torento neighberhood Data Frame: \", df_torento_neighberhood.shape)\n\n# drop all rows have \"Not assigned\\n\" value for column \"Borough\"\nindexs = df_torento_neighberhood[ df_torento_neighberhood['Borough'] == \"Not assigned\\n\" ].index\n\ndf_torento_neighberhood_clean_data = df_torento_neighberhood.drop(indexs)\ndf_torento_neighberhood_clean_data.reset_index(drop=True, inplace=True)\n\n# strings have extra \"\\n\" we replave is with \"\"\ndf_torento_neighberhood_clean_data[\"Neighberhood\"].replace(to_replace=r'/', value=',', regex=True, inplace=True)\ndf_torento_neighberhood_clean_data[\"Neighberhood\"].replace(to_replace=r'\\n', value='', regex=True, inplace=True)\ndf_torento_neighberhood_clean_data[\"Borough\"].replace(to_replace=r'\\n', value='', regex=True, inplace=True)\ndf_torento_neighberhood_clean_data[\"PostalCode\"].replace(to_replace=r'\\n', value='', regex=True, inplace=True)\n\n# check if we have null column\n# print(df_torento_neighberhood_drop_no_assighned.isnull())\nprint(\"Clean Data Frame Shape: \", df_torento_neighberhood_clean_data.shape)\ndf_torento_neighberhood_clean_data.head()"
        },
        {
            "cell_type": "code",
            "execution_count": 8,
            "metadata": {},
            "outputs": [
                {
                    "data": {
                        "text/html": "<div>\n<style scoped>\n    .dataframe tbody tr th:only-of-type {\n        vertical-align: middle;\n    }\n\n    .dataframe tbody tr th {\n        vertical-align: top;\n    }\n\n    .dataframe thead th {\n        text-align: right;\n    }\n</style>\n<table border=\"1\" class=\"dataframe\">\n  <thead>\n    <tr style=\"text-align: right;\">\n      <th></th>\n      <th>Latitude</th>\n      <th>Longitude</th>\n    </tr>\n    <tr>\n      <th>Postal Code</th>\n      <th></th>\n      <th></th>\n    </tr>\n  </thead>\n  <tbody>\n    <tr>\n      <th>M1B</th>\n      <td>43.806686</td>\n      <td>-79.194353</td>\n    </tr>\n    <tr>\n      <th>M1C</th>\n      <td>43.784535</td>\n      <td>-79.160497</td>\n    </tr>\n    <tr>\n      <th>M1E</th>\n      <td>43.763573</td>\n      <td>-79.188711</td>\n    </tr>\n    <tr>\n      <th>M1G</th>\n      <td>43.770992</td>\n      <td>-79.216917</td>\n    </tr>\n    <tr>\n      <th>M1H</th>\n      <td>43.773136</td>\n      <td>-79.239476</td>\n    </tr>\n  </tbody>\n</table>\n</div>",
                        "text/plain": "              Latitude  Longitude\nPostal Code                      \nM1B          43.806686 -79.194353\nM1C          43.784535 -79.160497\nM1E          43.763573 -79.188711\nM1G          43.770992 -79.216917\nM1H          43.773136 -79.239476"
                    },
                    "execution_count": 8,
                    "metadata": {},
                    "output_type": "execute_result"
                }
            ],
            "source": "geospatial.head()"
        },
        {
            "cell_type": "markdown",
            "metadata": {},
            "source": "#### Create Columns for Latitude and Longitude."
        },
        {
            "cell_type": "code",
            "execution_count": 19,
            "metadata": {},
            "outputs": [
                {
                    "name": "stdout",
                    "output_type": "stream",
                    "text": "(103, 5)\n"
                },
                {
                    "data": {
                        "text/html": "<div>\n<style scoped>\n    .dataframe tbody tr th:only-of-type {\n        vertical-align: middle;\n    }\n\n    .dataframe tbody tr th {\n        vertical-align: top;\n    }\n\n    .dataframe thead th {\n        text-align: right;\n    }\n</style>\n<table border=\"1\" class=\"dataframe\">\n  <thead>\n    <tr style=\"text-align: right;\">\n      <th></th>\n      <th>PostalCode</th>\n      <th>Borough</th>\n      <th>Neighberhood</th>\n      <th>Latitude</th>\n      <th>Longitude</th>\n    </tr>\n  </thead>\n  <tbody>\n    <tr>\n      <th>0</th>\n      <td>M1B</td>\n      <td>Scarborough</td>\n      <td>Malvern , Rouge</td>\n      <td>43.806686</td>\n      <td>-79.194353</td>\n    </tr>\n    <tr>\n      <th>1</th>\n      <td>M1C</td>\n      <td>Scarborough</td>\n      <td>Rouge Hill , Port Union , Highland Creek</td>\n      <td>43.784535</td>\n      <td>-79.160497</td>\n    </tr>\n    <tr>\n      <th>2</th>\n      <td>M1E</td>\n      <td>Scarborough</td>\n      <td>Guildwood , Morningside , West Hill</td>\n      <td>43.763573</td>\n      <td>-79.188711</td>\n    </tr>\n    <tr>\n      <th>3</th>\n      <td>M1G</td>\n      <td>Scarborough</td>\n      <td>Woburn</td>\n      <td>43.770992</td>\n      <td>-79.216917</td>\n    </tr>\n    <tr>\n      <th>4</th>\n      <td>M1H</td>\n      <td>Scarborough</td>\n      <td>Cedarbrae</td>\n      <td>43.773136</td>\n      <td>-79.239476</td>\n    </tr>\n  </tbody>\n</table>\n</div>",
                        "text/plain": "  PostalCode      Borough                              Neighberhood  \\\n0        M1B  Scarborough                           Malvern , Rouge   \n1        M1C  Scarborough  Rouge Hill , Port Union , Highland Creek   \n2        M1E  Scarborough       Guildwood , Morningside , West Hill   \n3        M1G  Scarborough                                    Woburn   \n4        M1H  Scarborough                                 Cedarbrae   \n\n    Latitude  Longitude  \n0  43.806686 -79.194353  \n1  43.784535 -79.160497  \n2  43.763573 -79.188711  \n3  43.770992 -79.216917  \n4  43.773136 -79.239476  "
                    },
                    "execution_count": 19,
                    "metadata": {},
                    "output_type": "execute_result"
                }
            ],
            "source": "# Sort our df_torento_neighberhood_clean_data by column PostalCode\ndf_torento_neighberhood_clean_data.sort_values(by=\"PostalCode\", inplace=True)\ndf_torento_neighberhood_clean_data.reset_index(drop=True, inplace=True)\ndf_torento_neighberhood_clean_data.head()\n\nlatitude = geospatial[\"Latitude\"].values\nlongitude = geospatial[\"Longitude\"].values\n\ndf_torento_neighberhood_clean_data[\"Latitude\"] = latitude\ndf_torento_neighberhood_clean_data[\"Longitude\"] = longitude\nprint(df_torento_neighberhood_clean_data.shape)\ndf_torento_neighberhood_clean_data.head()\n"
        }
    ],
    "metadata": {
        "kernelspec": {
            "display_name": "Python 3.6",
            "language": "python",
            "name": "python3"
        },
        "language_info": {
            "codemirror_mode": {
                "name": "ipython",
                "version": 3
            },
            "file_extension": ".py",
            "mimetype": "text/x-python",
            "name": "python",
            "nbconvert_exporter": "python",
            "pygments_lexer": "ipython3",
            "version": "3.6.9"
        }
    },
    "nbformat": 4,
    "nbformat_minor": 1
}